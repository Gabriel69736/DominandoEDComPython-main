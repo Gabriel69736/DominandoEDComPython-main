{
 "cells": [
  {
   "cell_type": "code",
   "execution_count": 1,
   "metadata": {},
   "outputs": [],
   "source": [
    "# 06 - Pilha - prática"
   ]
  },
  {
   "cell_type": "code",
   "execution_count": 3,
   "metadata": {},
   "outputs": [
    {
     "name": "stdout",
     "output_type": "stream",
     "text": [
      "String invertida: lehsrop\n"
     ]
    }
   ],
   "source": [
    "class Pilha:\n",
    "    def __init__(self):\n",
    "        self.items = []\n",
    "\n",
    "    def esta_vazia(self):\n",
    "        return self.items == []\n",
    "\n",
    "    def push(self, item):\n",
    "        self.items.append(item)\n",
    "\n",
    "    def pop(self):\n",
    "        return self.items.pop()\n",
    "\n",
    "\n",
    "def reverter_string(string):\n",
    "    pilha = Pilha()\n",
    "    for caractere in string:\n",
    "        pilha.push(caractere)\n",
    "\n",
    "    string_invertida = ''\n",
    "    while not pilha.esta_vazia():\n",
    "        string_invertida += pilha.pop()\n",
    "\n",
    "    return string_invertida\n",
    "\n",
    "\n",
    "def main():\n",
    "    entrada = input(\"Digite uma string: \")\n",
    "    string_invertida = reverter_string(entrada)\n",
    "    print(\"String invertida:\", string_invertida)\n",
    "\n",
    "\n",
    "if __name__ == \"__main__\":\n",
    "    main()"
   ]
  }
 ],
 "metadata": {
  "kernelspec": {
   "display_name": "Python 3",
   "language": "python",
   "name": "python3"
  },
  "language_info": {
   "codemirror_mode": {
    "name": "ipython",
    "version": 3
   },
   "file_extension": ".py",
   "mimetype": "text/x-python",
   "name": "python",
   "nbconvert_exporter": "python",
   "pygments_lexer": "ipython3",
   "version": "3.11.1"
  }
 },
 "nbformat": 4,
 "nbformat_minor": 2
}
